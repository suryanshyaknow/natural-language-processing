{
 "cells": [
  {
   "cell_type": "code",
   "execution_count": 1,
   "id": "1a40e0e0",
   "metadata": {},
   "outputs": [
    {
     "data": {
      "application/javascript": [
       "IPython.notebook.set_autosave_interval(30000)"
      ]
     },
     "metadata": {},
     "output_type": "display_data"
    },
    {
     "name": "stdout",
     "output_type": "stream",
     "text": [
      "Autosaving every 30 seconds\n"
     ]
    }
   ],
   "source": [
    "%autosave 30"
   ]
  },
  {
   "cell_type": "markdown",
   "id": "328f401f",
   "metadata": {},
   "source": [
    "### How do we make the machines to identify sentiments from texts/paragraphs?"
   ]
  },
  {
   "cell_type": "markdown",
   "id": "049c27a0",
   "metadata": {},
   "source": [
    "For that we've got **`NLP (Natural Language Processing)`**."
   ]
  },
  {
   "cell_type": "code",
   "execution_count": 2,
   "id": "fd29639b",
   "metadata": {},
   "outputs": [],
   "source": [
    "import nltk\n",
    "\n",
    "# --> An entirely a rule-based hard-coded library."
   ]
  },
  {
   "cell_type": "code",
   "execution_count": 3,
   "id": "1b06e61a",
   "metadata": {},
   "outputs": [
    {
     "name": "stdout",
     "output_type": "stream",
     "text": [
      "showing info https://raw.githubusercontent.com/nltk/nltk_data/gh-pages/index.xml\n"
     ]
    },
    {
     "data": {
      "text/plain": [
       "True"
      ]
     },
     "execution_count": 3,
     "metadata": {},
     "output_type": "execute_result"
    }
   ],
   "source": [
    "## To download all NLTK's packages altogether at once\n",
    "\n",
    "nltk.download()"
   ]
  },
  {
   "cell_type": "code",
   "execution_count": 3,
   "id": "7b63d329",
   "metadata": {},
   "outputs": [
    {
     "data": {
      "text/plain": [
       "'One Piece (stylized in all caps) is a Japanese manga series written and illustrated by Eiichiro Oda. It has been serialized in Shueisha\\'s shōnen manga magazine Weekly Shōnen Jump since July 1997, with its individual chapters compiled into 104 tankōbon volumes as of November 2022. The story follows the adventures of Monkey D. Luffy, a boy whose body gained the properties of rubber after unintentionally eating a Devil Fruit. With his pirate crew, the Straw Hat Pirates, Luffy explores the Grand Line in search of the deceased King of the Pirates Gol D. Roger\\'s ultimate treasure known as the \"One Piece\" in order to become the next King of the Pirates.\\n\\nThe manga spawned a media franchise, having been adapted into a festival film produced by Production I.G, and an anime series produced by Toei Animation, which began broadcasting in 1999. Additionally, Toei has developed fourteen animated feature films, one original video animation, and thirteen television specials. Several companies have developed various types of merchandising and media, such as a trading card game and numerous video games. The manga series was licensed for an English language release in North America and the United Kingdom by Viz Media and in Australia by Madman Entertainment. The anime series was licensed by 4Kids Entertainment for an English-language release in North America in 2004 before the license was dropped and subsequently acquired by Funimation in 2007.'"
      ]
     },
     "execution_count": 3,
     "metadata": {},
     "output_type": "execute_result"
    }
   ],
   "source": [
    "para = \"\"\"One Piece (stylized in all caps) is a Japanese manga series written and illustrated by Eiichiro Oda. It has been serialized in Shueisha's shōnen manga magazine Weekly Shōnen Jump since July 1997, with its individual chapters compiled into 104 tankōbon volumes as of November 2022. The story follows the adventures of Monkey D. Luffy, a boy whose body gained the properties of rubber after unintentionally eating a Devil Fruit. With his pirate crew, the Straw Hat Pirates, Luffy explores the Grand Line in search of the deceased King of the Pirates Gol D. Roger's ultimate treasure known as the \"One Piece\" in order to become the next King of the Pirates.\n",
    "\n",
    "The manga spawned a media franchise, having been adapted into a festival film produced by Production I.G, and an anime series produced by Toei Animation, which began broadcasting in 1999. Additionally, Toei has developed fourteen animated feature films, one original video animation, and thirteen television specials. Several companies have developed various types of merchandising and media, such as a trading card game and numerous video games. The manga series was licensed for an English language release in North America and the United Kingdom by Viz Media and in Australia by Madman Entertainment. The anime series was licensed by 4Kids Entertainment for an English-language release in North America in 2004 before the license was dropped and subsequently acquired by Funimation in 2007.\"\"\"\n",
    "\n",
    "para"
   ]
  },
  {
   "cell_type": "markdown",
   "id": "bd5a6425",
   "metadata": {},
   "source": [
    "### # Tokenization: \n",
    "\n",
    "**`Tokenization`** is used in **natural language processing** to split paragraphs and sentences into smaller units that can be more easily assigned meaning. The first step of the NLP process is gathering the data (a sentence) and breaking it into understandable parts (words)."
   ]
  },
  {
   "cell_type": "code",
   "execution_count": 4,
   "id": "84711e10",
   "metadata": {},
   "outputs": [
    {
     "data": {
      "text/plain": [
       "['One Piece (stylized in all caps) is a Japanese manga series written and illustrated by Eiichiro Oda.',\n",
       " \"It has been serialized in Shueisha's shōnen manga magazine Weekly Shōnen Jump since July 1997, with its individual chapters compiled into 104 tankōbon volumes as of November 2022.\",\n",
       " 'The story follows the adventures of Monkey D. Luffy, a boy whose body gained the properties of rubber after unintentionally eating a Devil Fruit.',\n",
       " 'With his pirate crew, the Straw Hat Pirates, Luffy explores the Grand Line in search of the deceased King of the Pirates Gol D. Roger\\'s ultimate treasure known as the \"One Piece\" in order to become the next King of the Pirates.',\n",
       " 'The manga spawned a media franchise, having been adapted into a festival film produced by Production I.G, and an anime series produced by Toei Animation, which began broadcasting in 1999.',\n",
       " 'Additionally, Toei has developed fourteen animated feature films, one original video animation, and thirteen television specials.',\n",
       " 'Several companies have developed various types of merchandising and media, such as a trading card game and numerous video games.',\n",
       " 'The manga series was licensed for an English language release in North America and the United Kingdom by Viz Media and in Australia by Madman Entertainment.',\n",
       " 'The anime series was licensed by 4Kids Entertainment for an English-language release in North America in 2004 before the license was dropped and subsequently acquired by Funimation in 2007.']"
      ]
     },
     "execution_count": 4,
     "metadata": {},
     "output_type": "execute_result"
    }
   ],
   "source": [
    "## Paragraph into Sentence tokenization\n",
    "\n",
    "sentences = nltk.sent_tokenize(para)\n",
    "sentences"
   ]
  },
  {
   "cell_type": "code",
   "execution_count": 5,
   "id": "8b6d1073",
   "metadata": {},
   "outputs": [
    {
     "name": "stdout",
     "output_type": "stream",
     "text": [
      "258\n"
     ]
    },
    {
     "data": {
      "text/plain": [
       "['One',\n",
       " 'Piece',\n",
       " '(',\n",
       " 'stylized',\n",
       " 'in',\n",
       " 'all',\n",
       " 'caps',\n",
       " ')',\n",
       " 'is',\n",
       " 'a',\n",
       " 'Japanese',\n",
       " 'manga',\n",
       " 'series',\n",
       " 'written',\n",
       " 'and',\n",
       " 'illustrated',\n",
       " 'by',\n",
       " 'Eiichiro',\n",
       " 'Oda',\n",
       " '.',\n",
       " 'It',\n",
       " 'has',\n",
       " 'been',\n",
       " 'serialized',\n",
       " 'in',\n",
       " 'Shueisha',\n",
       " \"'s\",\n",
       " 'shōnen',\n",
       " 'manga',\n",
       " 'magazine',\n",
       " 'Weekly',\n",
       " 'Shōnen',\n",
       " 'Jump',\n",
       " 'since',\n",
       " 'July',\n",
       " '1997',\n",
       " ',',\n",
       " 'with',\n",
       " 'its',\n",
       " 'individual',\n",
       " 'chapters',\n",
       " 'compiled',\n",
       " 'into',\n",
       " '104',\n",
       " 'tankōbon',\n",
       " 'volumes',\n",
       " 'as',\n",
       " 'of',\n",
       " 'November',\n",
       " '2022',\n",
       " '.',\n",
       " 'The',\n",
       " 'story',\n",
       " 'follows',\n",
       " 'the',\n",
       " 'adventures',\n",
       " 'of',\n",
       " 'Monkey',\n",
       " 'D.',\n",
       " 'Luffy',\n",
       " ',',\n",
       " 'a',\n",
       " 'boy',\n",
       " 'whose',\n",
       " 'body',\n",
       " 'gained',\n",
       " 'the',\n",
       " 'properties',\n",
       " 'of',\n",
       " 'rubber',\n",
       " 'after',\n",
       " 'unintentionally',\n",
       " 'eating',\n",
       " 'a',\n",
       " 'Devil',\n",
       " 'Fruit',\n",
       " '.',\n",
       " 'With',\n",
       " 'his',\n",
       " 'pirate',\n",
       " 'crew',\n",
       " ',',\n",
       " 'the',\n",
       " 'Straw',\n",
       " 'Hat',\n",
       " 'Pirates',\n",
       " ',',\n",
       " 'Luffy',\n",
       " 'explores',\n",
       " 'the',\n",
       " 'Grand',\n",
       " 'Line',\n",
       " 'in',\n",
       " 'search',\n",
       " 'of',\n",
       " 'the',\n",
       " 'deceased',\n",
       " 'King',\n",
       " 'of',\n",
       " 'the',\n",
       " 'Pirates',\n",
       " 'Gol',\n",
       " 'D.',\n",
       " 'Roger',\n",
       " \"'s\",\n",
       " 'ultimate',\n",
       " 'treasure',\n",
       " 'known',\n",
       " 'as',\n",
       " 'the',\n",
       " '``',\n",
       " 'One',\n",
       " 'Piece',\n",
       " \"''\",\n",
       " 'in',\n",
       " 'order',\n",
       " 'to',\n",
       " 'become',\n",
       " 'the',\n",
       " 'next',\n",
       " 'King',\n",
       " 'of',\n",
       " 'the',\n",
       " 'Pirates',\n",
       " '.',\n",
       " 'The',\n",
       " 'manga',\n",
       " 'spawned',\n",
       " 'a',\n",
       " 'media',\n",
       " 'franchise',\n",
       " ',',\n",
       " 'having',\n",
       " 'been',\n",
       " 'adapted',\n",
       " 'into',\n",
       " 'a',\n",
       " 'festival',\n",
       " 'film',\n",
       " 'produced',\n",
       " 'by',\n",
       " 'Production',\n",
       " 'I.G',\n",
       " ',',\n",
       " 'and',\n",
       " 'an',\n",
       " 'anime',\n",
       " 'series',\n",
       " 'produced',\n",
       " 'by',\n",
       " 'Toei',\n",
       " 'Animation',\n",
       " ',',\n",
       " 'which',\n",
       " 'began',\n",
       " 'broadcasting',\n",
       " 'in',\n",
       " '1999',\n",
       " '.',\n",
       " 'Additionally',\n",
       " ',',\n",
       " 'Toei',\n",
       " 'has',\n",
       " 'developed',\n",
       " 'fourteen',\n",
       " 'animated',\n",
       " 'feature',\n",
       " 'films',\n",
       " ',',\n",
       " 'one',\n",
       " 'original',\n",
       " 'video',\n",
       " 'animation',\n",
       " ',',\n",
       " 'and',\n",
       " 'thirteen',\n",
       " 'television',\n",
       " 'specials',\n",
       " '.',\n",
       " 'Several',\n",
       " 'companies',\n",
       " 'have',\n",
       " 'developed',\n",
       " 'various',\n",
       " 'types',\n",
       " 'of',\n",
       " 'merchandising',\n",
       " 'and',\n",
       " 'media',\n",
       " ',',\n",
       " 'such',\n",
       " 'as',\n",
       " 'a',\n",
       " 'trading',\n",
       " 'card',\n",
       " 'game',\n",
       " 'and',\n",
       " 'numerous',\n",
       " 'video',\n",
       " 'games',\n",
       " '.',\n",
       " 'The',\n",
       " 'manga',\n",
       " 'series',\n",
       " 'was',\n",
       " 'licensed',\n",
       " 'for',\n",
       " 'an',\n",
       " 'English',\n",
       " 'language',\n",
       " 'release',\n",
       " 'in',\n",
       " 'North',\n",
       " 'America',\n",
       " 'and',\n",
       " 'the',\n",
       " 'United',\n",
       " 'Kingdom',\n",
       " 'by',\n",
       " 'Viz',\n",
       " 'Media',\n",
       " 'and',\n",
       " 'in',\n",
       " 'Australia',\n",
       " 'by',\n",
       " 'Madman',\n",
       " 'Entertainment',\n",
       " '.',\n",
       " 'The',\n",
       " 'anime',\n",
       " 'series',\n",
       " 'was',\n",
       " 'licensed',\n",
       " 'by',\n",
       " '4Kids',\n",
       " 'Entertainment',\n",
       " 'for',\n",
       " 'an',\n",
       " 'English-language',\n",
       " 'release',\n",
       " 'in',\n",
       " 'North',\n",
       " 'America',\n",
       " 'in',\n",
       " '2004',\n",
       " 'before',\n",
       " 'the',\n",
       " 'license',\n",
       " 'was',\n",
       " 'dropped',\n",
       " 'and',\n",
       " 'subsequently',\n",
       " 'acquired',\n",
       " 'by',\n",
       " 'Funimation',\n",
       " 'in',\n",
       " '2007',\n",
       " '.']"
      ]
     },
     "execution_count": 5,
     "metadata": {},
     "output_type": "execute_result"
    }
   ],
   "source": [
    "## Sentences into Words tokenization\n",
    "\n",
    "words = nltk.word_tokenize(para)\n",
    "print(len(words))\n",
    "words"
   ]
  },
  {
   "cell_type": "markdown",
   "id": "4412d237",
   "metadata": {},
   "source": [
    "### # Stemming and Lemmatization:\n",
    "\n",
    "**`Stemming`** is the process of reducing a word to its **stem** that affixes to suffixes and prefixes or to the roots of words known as **\"lemmas\"**. Stemming is important in natural language understanding (NLU) and natural language processing (NLP). The stem here might or might not be meaningful.\n",
    "\n",
    "**`Lemmatization`** is a **text normalization** technique used in Natural Language Processing (NLP), that switches any kind of a word to its base root [meaningful] mode. Lemmatization is responsible for grouping different inflected forms of words into the root form, having the same meaning."
   ]
  },
  {
   "cell_type": "code",
   "execution_count": 6,
   "id": "230c8efc",
   "metadata": {},
   "outputs": [],
   "source": [
    "from nltk.stem import PorterStemmer\n",
    "from nltk.corpus import stopwords"
   ]
  },
  {
   "cell_type": "markdown",
   "id": "0ac8ed04",
   "metadata": {},
   "source": [
    "**`Stop words`** are a set of commonly used words in any language. For example, in English, “the”, “is” and “and”, would easily qualify as stop words. \n",
    "\n",
    "In NLP and text mining applications, stop words are used to eliminate unimportant words, allowing applications to focus on the important words instead."
   ]
  },
  {
   "cell_type": "code",
   "execution_count": 11,
   "id": "a79df980",
   "metadata": {},
   "outputs": [
    {
     "data": {
      "text/plain": [
       "['aber',\n",
       " 'alle',\n",
       " 'allem',\n",
       " 'allen',\n",
       " 'aller',\n",
       " 'alles',\n",
       " 'als',\n",
       " 'also',\n",
       " 'am',\n",
       " 'an',\n",
       " 'ander',\n",
       " 'andere',\n",
       " 'anderem',\n",
       " 'anderen',\n",
       " 'anderer',\n",
       " 'anderes',\n",
       " 'anderm',\n",
       " 'andern',\n",
       " 'anderr',\n",
       " 'anders',\n",
       " 'auch',\n",
       " 'auf',\n",
       " 'aus',\n",
       " 'bei',\n",
       " 'bin',\n",
       " 'bis',\n",
       " 'bist',\n",
       " 'da',\n",
       " 'damit',\n",
       " 'dann',\n",
       " 'der',\n",
       " 'den',\n",
       " 'des',\n",
       " 'dem',\n",
       " 'die',\n",
       " 'das',\n",
       " 'dass',\n",
       " 'daß',\n",
       " 'derselbe',\n",
       " 'derselben',\n",
       " 'denselben',\n",
       " 'desselben',\n",
       " 'demselben',\n",
       " 'dieselbe',\n",
       " 'dieselben',\n",
       " 'dasselbe',\n",
       " 'dazu',\n",
       " 'dein',\n",
       " 'deine',\n",
       " 'deinem',\n",
       " 'deinen',\n",
       " 'deiner',\n",
       " 'deines',\n",
       " 'denn',\n",
       " 'derer',\n",
       " 'dessen',\n",
       " 'dich',\n",
       " 'dir',\n",
       " 'du',\n",
       " 'dies',\n",
       " 'diese',\n",
       " 'diesem',\n",
       " 'diesen',\n",
       " 'dieser',\n",
       " 'dieses',\n",
       " 'doch',\n",
       " 'dort',\n",
       " 'durch',\n",
       " 'ein',\n",
       " 'eine',\n",
       " 'einem',\n",
       " 'einen',\n",
       " 'einer',\n",
       " 'eines',\n",
       " 'einig',\n",
       " 'einige',\n",
       " 'einigem',\n",
       " 'einigen',\n",
       " 'einiger',\n",
       " 'einiges',\n",
       " 'einmal',\n",
       " 'er',\n",
       " 'ihn',\n",
       " 'ihm',\n",
       " 'es',\n",
       " 'etwas',\n",
       " 'euer',\n",
       " 'eure',\n",
       " 'eurem',\n",
       " 'euren',\n",
       " 'eurer',\n",
       " 'eures',\n",
       " 'für',\n",
       " 'gegen',\n",
       " 'gewesen',\n",
       " 'hab',\n",
       " 'habe',\n",
       " 'haben',\n",
       " 'hat',\n",
       " 'hatte',\n",
       " 'hatten',\n",
       " 'hier',\n",
       " 'hin',\n",
       " 'hinter',\n",
       " 'ich',\n",
       " 'mich',\n",
       " 'mir',\n",
       " 'ihr',\n",
       " 'ihre',\n",
       " 'ihrem',\n",
       " 'ihren',\n",
       " 'ihrer',\n",
       " 'ihres',\n",
       " 'euch',\n",
       " 'im',\n",
       " 'in',\n",
       " 'indem',\n",
       " 'ins',\n",
       " 'ist',\n",
       " 'jede',\n",
       " 'jedem',\n",
       " 'jeden',\n",
       " 'jeder',\n",
       " 'jedes',\n",
       " 'jene',\n",
       " 'jenem',\n",
       " 'jenen',\n",
       " 'jener',\n",
       " 'jenes',\n",
       " 'jetzt',\n",
       " 'kann',\n",
       " 'kein',\n",
       " 'keine',\n",
       " 'keinem',\n",
       " 'keinen',\n",
       " 'keiner',\n",
       " 'keines',\n",
       " 'können',\n",
       " 'könnte',\n",
       " 'machen',\n",
       " 'man',\n",
       " 'manche',\n",
       " 'manchem',\n",
       " 'manchen',\n",
       " 'mancher',\n",
       " 'manches',\n",
       " 'mein',\n",
       " 'meine',\n",
       " 'meinem',\n",
       " 'meinen',\n",
       " 'meiner',\n",
       " 'meines',\n",
       " 'mit',\n",
       " 'muss',\n",
       " 'musste',\n",
       " 'nach',\n",
       " 'nicht',\n",
       " 'nichts',\n",
       " 'noch',\n",
       " 'nun',\n",
       " 'nur',\n",
       " 'ob',\n",
       " 'oder',\n",
       " 'ohne',\n",
       " 'sehr',\n",
       " 'sein',\n",
       " 'seine',\n",
       " 'seinem',\n",
       " 'seinen',\n",
       " 'seiner',\n",
       " 'seines',\n",
       " 'selbst',\n",
       " 'sich',\n",
       " 'sie',\n",
       " 'ihnen',\n",
       " 'sind',\n",
       " 'so',\n",
       " 'solche',\n",
       " 'solchem',\n",
       " 'solchen',\n",
       " 'solcher',\n",
       " 'solches',\n",
       " 'soll',\n",
       " 'sollte',\n",
       " 'sondern',\n",
       " 'sonst',\n",
       " 'über',\n",
       " 'um',\n",
       " 'und',\n",
       " 'uns',\n",
       " 'unsere',\n",
       " 'unserem',\n",
       " 'unseren',\n",
       " 'unser',\n",
       " 'unseres',\n",
       " 'unter',\n",
       " 'viel',\n",
       " 'vom',\n",
       " 'von',\n",
       " 'vor',\n",
       " 'während',\n",
       " 'war',\n",
       " 'waren',\n",
       " 'warst',\n",
       " 'was',\n",
       " 'weg',\n",
       " 'weil',\n",
       " 'weiter',\n",
       " 'welche',\n",
       " 'welchem',\n",
       " 'welchen',\n",
       " 'welcher',\n",
       " 'welches',\n",
       " 'wenn',\n",
       " 'werde',\n",
       " 'werden',\n",
       " 'wie',\n",
       " 'wieder',\n",
       " 'will',\n",
       " 'wir',\n",
       " 'wird',\n",
       " 'wirst',\n",
       " 'wo',\n",
       " 'wollen',\n",
       " 'wollte',\n",
       " 'würde',\n",
       " 'würden',\n",
       " 'zu',\n",
       " 'zum',\n",
       " 'zur',\n",
       " 'zwar',\n",
       " 'zwischen']"
      ]
     },
     "execution_count": 11,
     "metadata": {},
     "output_type": "execute_result"
    }
   ],
   "source": [
    "## Stop words in English\n",
    "stopwords.words('english')\n",
    "\n",
    "## Stop words in German\n",
    "stopwords.words('german')"
   ]
  },
  {
   "cell_type": "code",
   "execution_count": 12,
   "id": "c6d9f08e",
   "metadata": {},
   "outputs": [
    {
     "data": {
      "text/plain": [
       "<PorterStemmer>"
      ]
     },
     "execution_count": 12,
     "metadata": {},
     "output_type": "execute_result"
    }
   ],
   "source": [
    "stemmer = PorterStemmer()\n",
    "stemmer"
   ]
  },
  {
   "cell_type": "code",
   "execution_count": 13,
   "id": "98d571f5",
   "metadata": {},
   "outputs": [
    {
     "data": {
      "text/plain": [
       "['One Piece (stylized in all caps) is a Japanese manga series written and illustrated by Eiichiro Oda.',\n",
       " \"It has been serialized in Shueisha's shōnen manga magazine Weekly Shōnen Jump since July 1997, with its individual chapters compiled into 104 tankōbon volumes as of November 2022.\",\n",
       " 'The story follows the adventures of Monkey D. Luffy, a boy whose body gained the properties of rubber after unintentionally eating a Devil Fruit.',\n",
       " 'With his pirate crew, the Straw Hat Pirates, Luffy explores the Grand Line in search of the deceased King of the Pirates Gol D. Roger\\'s ultimate treasure known as the \"One Piece\" in order to become the next King of the Pirates.',\n",
       " 'The manga spawned a media franchise, having been adapted into a festival film produced by Production I.G, and an anime series produced by Toei Animation, which began broadcasting in 1999.',\n",
       " 'Additionally, Toei has developed fourteen animated feature films, one original video animation, and thirteen television specials.',\n",
       " 'Several companies have developed various types of merchandising and media, such as a trading card game and numerous video games.',\n",
       " 'The manga series was licensed for an English language release in North America and the United Kingdom by Viz Media and in Australia by Madman Entertainment.',\n",
       " 'The anime series was licensed by 4Kids Entertainment for an English-language release in North America in 2004 before the license was dropped and subsequently acquired by Funimation in 2007.']"
      ]
     },
     "execution_count": 13,
     "metadata": {},
     "output_type": "execute_result"
    }
   ],
   "source": [
    "sentences"
   ]
  },
  {
   "cell_type": "markdown",
   "id": "05b9261b",
   "metadata": {},
   "source": [
    "**# Remove `stop words` and then Stem each word..**"
   ]
  },
  {
   "cell_type": "code",
   "execution_count": 32,
   "id": "92a2196e",
   "metadata": {},
   "outputs": [],
   "source": [
    "## Stemming\n",
    "\n",
    "stemmed_sentences = []\n",
    "for i in range(len(sentences)):\n",
    "    words = nltk.word_tokenize(sentences[i])\n",
    "    words = [stemmer.stem(word) for word in words if word not in stopwords.words('english')]\n",
    "    stemmed_sentences.append(' '.join(words))"
   ]
  },
  {
   "cell_type": "code",
   "execution_count": 33,
   "id": "492d7a72",
   "metadata": {},
   "outputs": [
    {
     "data": {
      "text/plain": [
       "['one piec ( styliz cap ) japanes manga seri written illustr eiichiro oda .',\n",
       " \"it serial shueisha 's shōnen manga magazin weekli shōnen jump sinc juli 1997 , individu chapter compil 104 tankōbon volum novemb 2022 .\",\n",
       " 'the stori follow adventur monkey d. luffi , boy whose bodi gain properti rubber unintent eat devil fruit .',\n",
       " \"with pirat crew , straw hat pirat , luffi explor grand line search deceas king pirat gol d. roger 's ultim treasur known `` one piec '' order becom next king pirat .\",\n",
       " 'the manga spawn media franchis , adapt festiv film produc product i.g , anim seri produc toei anim , began broadcast 1999 .',\n",
       " 'addit , toei develop fourteen anim featur film , one origin video anim , thirteen televis special .',\n",
       " 'sever compani develop variou type merchandis media , trade card game numer video game .',\n",
       " 'the manga seri licens english languag releas north america unit kingdom viz media australia madman entertain .',\n",
       " 'the anim seri licens 4kid entertain english-languag releas north america 2004 licens drop subsequ acquir funim 2007 .']"
      ]
     },
     "execution_count": 33,
     "metadata": {},
     "output_type": "execute_result"
    }
   ],
   "source": [
    "stemmed_sentences"
   ]
  },
  {
   "cell_type": "markdown",
   "id": "b0e85c2d",
   "metadata": {},
   "source": [
    "**=>** We can clearly observe some of the stemmed words are not making any sense and of course they won't. To make any sense outta them, we've gotta **lemmatize** them.\n",
    "\n",
    "### The problem with Stemming is it produces intermediate representation of the word which may not have any meaning."
   ]
  },
  {
   "cell_type": "markdown",
   "id": "e77e19d8",
   "metadata": {},
   "source": [
    "**# Remove `stop words` and then Lemmatize each word..**"
   ]
  },
  {
   "cell_type": "code",
   "execution_count": 34,
   "id": "2de85cd2",
   "metadata": {},
   "outputs": [
    {
     "data": {
      "text/plain": [
       "<WordNetLemmatizer>"
      ]
     },
     "execution_count": 34,
     "metadata": {},
     "output_type": "execute_result"
    }
   ],
   "source": [
    "from nltk.stem import WordNetLemmatizer\n",
    "\n",
    "lemma = WordNetLemmatizer()\n",
    "lemma"
   ]
  },
  {
   "cell_type": "code",
   "execution_count": 35,
   "id": "77cc4552",
   "metadata": {},
   "outputs": [],
   "source": [
    "## Stemming\n",
    "\n",
    "lemmatized_sentences = []\n",
    "for i in range(len(sentences)):\n",
    "    words = nltk.word_tokenize(sentences[i])\n",
    "    words = [lemma.lemmatize(word) for word in words if word not in stopwords.words('english')]\n",
    "    lemmatized_sentences.append(' '.join(words))"
   ]
  },
  {
   "cell_type": "code",
   "execution_count": 37,
   "id": "e712d2bd",
   "metadata": {},
   "outputs": [
    {
     "data": {
      "text/plain": [
       "['One Piece ( stylized cap ) Japanese manga series written illustrated Eiichiro Oda .',\n",
       " \"It serialized Shueisha 's shōnen manga magazine Weekly Shōnen Jump since July 1997 , individual chapter compiled 104 tankōbon volume November 2022 .\",\n",
       " 'The story follows adventure Monkey D. Luffy , boy whose body gained property rubber unintentionally eating Devil Fruit .',\n",
       " \"With pirate crew , Straw Hat Pirates , Luffy explores Grand Line search deceased King Pirates Gol D. Roger 's ultimate treasure known `` One Piece '' order become next King Pirates .\",\n",
       " 'The manga spawned medium franchise , adapted festival film produced Production I.G , anime series produced Toei Animation , began broadcasting 1999 .',\n",
       " 'Additionally , Toei developed fourteen animated feature film , one original video animation , thirteen television special .',\n",
       " 'Several company developed various type merchandising medium , trading card game numerous video game .',\n",
       " 'The manga series licensed English language release North America United Kingdom Viz Media Australia Madman Entertainment .',\n",
       " 'The anime series licensed 4Kids Entertainment English-language release North America 2004 license dropped subsequently acquired Funimation 2007 .']"
      ]
     },
     "execution_count": 37,
     "metadata": {},
     "output_type": "execute_result"
    }
   ],
   "source": [
    "lemmatized_sentences"
   ]
  },
  {
   "cell_type": "markdown",
   "id": "c95884ae",
   "metadata": {},
   "source": [
    "**=>** Got what we wanted. **Lemmatization prevailed!**"
   ]
  }
 ],
 "metadata": {
  "kernelspec": {
   "display_name": "Python 3 (ipykernel)",
   "language": "python",
   "name": "python3"
  },
  "language_info": {
   "codemirror_mode": {
    "name": "ipython",
    "version": 3
   },
   "file_extension": ".py",
   "mimetype": "text/x-python",
   "name": "python",
   "nbconvert_exporter": "python",
   "pygments_lexer": "ipython3",
   "version": "3.9.13"
  }
 },
 "nbformat": 4,
 "nbformat_minor": 5
}
