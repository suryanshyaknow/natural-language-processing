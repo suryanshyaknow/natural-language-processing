{
 "cells": [
  {
   "cell_type": "markdown",
   "id": "028dd8c1",
   "metadata": {},
   "source": [
    "## # Bag of Words\n",
    "\n",
    "The **`bag-of-words`** model is a simplifying representation used in **natural language processing** and **information retrieval (IR)**. \n",
    "\n",
    "In this model, a text (such as a sentence or a document) is represented as the bag (multiset) of its words, disregarding grammar and even word order but keeping multiplicity. The bag-of-words model has also been used for computer vision."
   ]
  },
  {
   "cell_type": "code",
   "execution_count": 1,
   "id": "909d4b9c",
   "metadata": {},
   "outputs": [],
   "source": [
    "import nltk\n",
    "\n",
    "import re\n",
    "from nltk.corpus import stopwords\n",
    "from nltk.stem import PorterStemmer\n",
    "from nltk.stem import WordNetLemmatizer"
   ]
  },
  {
   "cell_type": "code",
   "execution_count": 2,
   "id": "1bb8e3bc",
   "metadata": {},
   "outputs": [
    {
     "data": {
      "text/plain": [
       "'Turn data into actionable business insights.\\nThe AWS Data Science team uses the tools our cloud platform provides to unify data preparation, machine learning, and model deployment. We scale the abilities and resources of our customers by delivering advanced functionality for data visualization, feature engineering, model interpretability, and low-latency deployment. Our culture of data-driven decision making requires advanced sales technologies that are timely, accurate, and actionable.\\n\\nAs part of the AWS Data Science team, you’ll discover and solve real-world problems by analyzing large amounts of business data, defining new metrics and business cases, designing simulations and experiments, creating models, and collaborating with colleagues. You’ll bring with you a strong quantitative background and thrive in an environment that leverages statistics, machine learning, operations research, econometrics, and business analysis. And in return, you’ll have the chance to work on some of the world’s largest and diverse datasets.\\n\\nLearn more about Amazon’s approach to customer-obsessed science on the Amazon Science website, which features the latest news and research from scientists across the company. It’s where you can find information about the conferences we sponsor, the institutions we collaborate with, our awards program, career opportunities, challenges, and more. For the latest updates, subscribe to the monthly newsletter, and follow Amazon Science on LinkedIn, Twitter, Facebook, Instagram, and YouTube.\\n\\nInterested in AWS? Start here\\nWe’re always glad to connect with talented people. Tell us a bit about what you want to do and we’ll keep you posted on relevant roles and what we’re building at AWS. '"
      ]
     },
     "execution_count": 2,
     "metadata": {},
     "output_type": "execute_result"
    }
   ],
   "source": [
    "para = \"\"\"Turn data into actionable business insights.\n",
    "The AWS Data Science team uses the tools our cloud platform provides to unify data preparation, machine learning, and model deployment. We scale the abilities and resources of our customers by delivering advanced functionality for data visualization, feature engineering, model interpretability, and low-latency deployment. Our culture of data-driven decision making requires advanced sales technologies that are timely, accurate, and actionable.\n",
    "\n",
    "As part of the AWS Data Science team, you’ll discover and solve real-world problems by analyzing large amounts of business data, defining new metrics and business cases, designing simulations and experiments, creating models, and collaborating with colleagues. You’ll bring with you a strong quantitative background and thrive in an environment that leverages statistics, machine learning, operations research, econometrics, and business analysis. And in return, you’ll have the chance to work on some of the world’s largest and diverse datasets.\n",
    "\n",
    "Learn more about Amazon’s approach to customer-obsessed science on the Amazon Science website, which features the latest news and research from scientists across the company. It’s where you can find information about the conferences we sponsor, the institutions we collaborate with, our awards program, career opportunities, challenges, and more. For the latest updates, subscribe to the monthly newsletter, and follow Amazon Science on LinkedIn, Twitter, Facebook, Instagram, and YouTube.\n",
    "\n",
    "Interested in AWS? Start here\n",
    "We’re always glad to connect with talented people. Tell us a bit about what you want to do and we’ll keep you posted on relevant roles and what we’re building at AWS. \"\"\"\n",
    "\n",
    "para"
   ]
  },
  {
   "cell_type": "markdown",
   "id": "552d695f",
   "metadata": {},
   "source": [
    "**NOTE:** A **stop word** can include white space characters, but it cannot include punctuation characters, such as a comma or vertical bar."
   ]
  },
  {
   "cell_type": "code",
   "execution_count": 3,
   "id": "f970ad11",
   "metadata": {},
   "outputs": [],
   "source": [
    "## Tokenization\n",
    "\n",
    "sentences = nltk.sent_tokenize(para)"
   ]
  },
  {
   "cell_type": "code",
   "execution_count": 4,
   "id": "6d2c7cb3",
   "metadata": {},
   "outputs": [
    {
     "data": {
      "text/plain": [
       "<WordNetLemmatizer>"
      ]
     },
     "execution_count": 4,
     "metadata": {},
     "output_type": "execute_result"
    }
   ],
   "source": [
    "## Create an object for Lemmatizing\n",
    "\n",
    "lemma = WordNetLemmatizer()\n",
    "lemma"
   ]
  },
  {
   "cell_type": "code",
   "execution_count": 5,
   "id": "ec0a2e00",
   "metadata": {},
   "outputs": [],
   "source": [
    "## Step i. CLean the text\n",
    "\n",
    "corpus = []  # Cleaned sentences\n",
    "\n",
    "# Lowering the words\n",
    "for i in range(len(sentences)):\n",
    "    review = re.sub('[^a-zA-z]', ' ', sentences[i])  # Replace all chars apart from alphabets w white space\n",
    "    review = review.lower()\n",
    "    cleaned_words = nltk.word_tokenize(review)\n",
    "    \n",
    "    # Removing Stop Words followed by lemmatizing\n",
    "    cleaned_words = [lemma.lemmatize(i) for i in cleaned_words if cleaned_words not in stopwords.words('english')]\n",
    "    cleaned_sent = \" \".join(cleaned_words)\n",
    "#     print(cleaned_words)\n",
    "#     print(\"--\")\n",
    "    corpus.append(cleaned_sent)"
   ]
  },
  {
   "cell_type": "code",
   "execution_count": 6,
   "id": "d41a3001",
   "metadata": {},
   "outputs": [
    {
     "data": {
      "text/plain": [
       "['turn data into actionable business insight',\n",
       " 'the aws data science team us the tool our cloud platform provides to unify data preparation machine learning and model deployment',\n",
       " 'we scale the ability and resource of our customer by delivering advanced functionality for data visualization feature engineering model interpretability and low latency deployment',\n",
       " 'our culture of data driven decision making requires advanced sale technology that are timely accurate and actionable',\n",
       " 'a part of the aws data science team you ll discover and solve real world problem by analyzing large amount of business data defining new metric and business case designing simulation and experiment creating model and collaborating with colleague',\n",
       " 'you ll bring with you a strong quantitative background and thrive in an environment that leverage statistic machine learning operation research econometrics and business analysis',\n",
       " 'and in return you ll have the chance to work on some of the world s largest and diverse datasets',\n",
       " 'learn more about amazon s approach to customer obsessed science on the amazon science website which feature the latest news and research from scientist across the company',\n",
       " 'it s where you can find information about the conference we sponsor the institution we collaborate with our award program career opportunity challenge and more',\n",
       " 'for the latest update subscribe to the monthly newsletter and follow amazon science on linkedin twitter facebook instagram and youtube',\n",
       " 'interested in aws',\n",
       " 'start here we re always glad to connect with talented people',\n",
       " 'tell u a bit about what you want to do and we ll keep you posted on relevant role and what we re building at aws']"
      ]
     },
     "execution_count": 6,
     "metadata": {},
     "output_type": "execute_result"
    }
   ],
   "source": [
    "corpus"
   ]
  },
  {
   "cell_type": "code",
   "execution_count": 7,
   "id": "72afc671",
   "metadata": {},
   "outputs": [
    {
     "name": "stdout",
     "output_type": "stream",
     "text": [
      "Turn data into actionable business insights.\n",
      "turn data into actionable business insight \n",
      "--\n",
      "The AWS Data Science team uses the tools our cloud platform provides to unify data preparation, machine learning, and model deployment.\n",
      "the aws data science team us the tool our cloud platform provides to unify data preparation machine learning and model deployment \n",
      "--\n",
      "We scale the abilities and resources of our customers by delivering advanced functionality for data visualization, feature engineering, model interpretability, and low-latency deployment.\n",
      "we scale the ability and resource of our customer by delivering advanced functionality for data visualization feature engineering model interpretability and low latency deployment \n",
      "--\n",
      "Our culture of data-driven decision making requires advanced sales technologies that are timely, accurate, and actionable.\n",
      "our culture of data driven decision making requires advanced sale technology that are timely accurate and actionable \n",
      "--\n",
      "As part of the AWS Data Science team, you’ll discover and solve real-world problems by analyzing large amounts of business data, defining new metrics and business cases, designing simulations and experiments, creating models, and collaborating with colleagues.\n",
      "a part of the aws data science team you ll discover and solve real world problem by analyzing large amount of business data defining new metric and business case designing simulation and experiment creating model and collaborating with colleague \n",
      "--\n",
      "You’ll bring with you a strong quantitative background and thrive in an environment that leverages statistics, machine learning, operations research, econometrics, and business analysis.\n",
      "you ll bring with you a strong quantitative background and thrive in an environment that leverage statistic machine learning operation research econometrics and business analysis \n",
      "--\n",
      "And in return, you’ll have the chance to work on some of the world’s largest and diverse datasets.\n",
      "and in return you ll have the chance to work on some of the world s largest and diverse datasets \n",
      "--\n",
      "Learn more about Amazon’s approach to customer-obsessed science on the Amazon Science website, which features the latest news and research from scientists across the company.\n",
      "learn more about amazon s approach to customer obsessed science on the amazon science website which feature the latest news and research from scientist across the company \n",
      "--\n",
      "It’s where you can find information about the conferences we sponsor, the institutions we collaborate with, our awards program, career opportunities, challenges, and more.\n",
      "it s where you can find information about the conference we sponsor the institution we collaborate with our award program career opportunity challenge and more \n",
      "--\n",
      "For the latest updates, subscribe to the monthly newsletter, and follow Amazon Science on LinkedIn, Twitter, Facebook, Instagram, and YouTube.\n",
      "for the latest update subscribe to the monthly newsletter and follow amazon science on linkedin twitter facebook instagram and youtube \n",
      "--\n",
      "Interested in AWS?\n",
      "interested in aws \n",
      "--\n",
      "Start here\n",
      "We’re always glad to connect with talented people.\n",
      "start here we re always glad to connect with talented people \n",
      "--\n",
      "Tell us a bit about what you want to do and we’ll keep you posted on relevant roles and what we’re building at AWS.\n",
      "tell u a bit about what you want to do and we ll keep you posted on relevant role and what we re building at aws \n",
      "--\n"
     ]
    },
    {
     "data": {
      "text/plain": [
       "[None, None, None, None, None, None, None, None, None, None, None, None, None]"
      ]
     },
     "execution_count": 7,
     "metadata": {},
     "output_type": "execute_result"
    }
   ],
   "source": [
    "## Let's compare the original sentences against the cleaned ones\n",
    "\n",
    "[print(f'{i}\\n{j}', \"\\n--\") for i, j in zip(sentences, corpus)]"
   ]
  },
  {
   "cell_type": "code",
   "execution_count": 8,
   "id": "283baeb1",
   "metadata": {},
   "outputs": [],
   "source": [
    "## Step ii. Create the Bag of Words\n",
    "\n",
    "from sklearn.feature_extraction.text import CountVectorizer\n",
    "\n",
    "cv = CountVectorizer()\n",
    "X = cv.fit_transform(corpus).toarray()"
   ]
  },
  {
   "cell_type": "code",
   "execution_count": 9,
   "id": "bf827208",
   "metadata": {},
   "outputs": [
    {
     "data": {
      "text/plain": [
       "array([[0, 0, 0, ..., 0, 0, 0],\n",
       "       [0, 0, 0, ..., 0, 0, 0],\n",
       "       [1, 0, 0, ..., 0, 0, 0],\n",
       "       ...,\n",
       "       [0, 0, 0, ..., 0, 0, 0],\n",
       "       [0, 0, 0, ..., 0, 0, 0],\n",
       "       [0, 1, 0, ..., 0, 2, 0]], dtype=int64)"
      ]
     },
     "execution_count": 9,
     "metadata": {},
     "output_type": "execute_result"
    }
   ],
   "source": [
    "X  # Our Bag of Words"
   ]
  },
  {
   "cell_type": "code",
   "execution_count": 10,
   "id": "0ca9d235",
   "metadata": {},
   "outputs": [
    {
     "data": {
      "text/plain": [
       "(13, 155)"
      ]
     },
     "execution_count": 10,
     "metadata": {},
     "output_type": "execute_result"
    }
   ],
   "source": [
    "X.shape"
   ]
  }
 ],
 "metadata": {
  "kernelspec": {
   "display_name": "Python 3 (ipykernel)",
   "language": "python",
   "name": "python3"
  },
  "language_info": {
   "codemirror_mode": {
    "name": "ipython",
    "version": 3
   },
   "file_extension": ".py",
   "mimetype": "text/x-python",
   "name": "python",
   "nbconvert_exporter": "python",
   "pygments_lexer": "ipython3",
   "version": "3.9.13"
  }
 },
 "nbformat": 4,
 "nbformat_minor": 5
}
