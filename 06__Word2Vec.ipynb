{
 "cells": [
  {
   "cell_type": "markdown",
   "id": "ac6e8c0b",
   "metadata": {},
   "source": [
    "Up unitl now, we've been using `Bag of Words` and `Tf-IDF` for vectorization of our text data. But there are some major problems in regard to their usage:\n",
    "\n",
    "* Although **TF-IDF** gives more importance to uncommon words, but just like the **Bag of Words** they also do not store any semantics information.\n",
    "\n",
    "\n",
    "* There's definitely a change of overfitting with their usage.\n",
    "\n",
    "\n",
    "* The **order of words** -- which do indicates the relationship between the words -- of a document is not followed at all."
   ]
  },
  {
   "cell_type": "markdown",
   "id": "3dd7e352",
   "metadata": {},
   "source": [
    "**=>** These problems give rise to the **`Word2Vec`**."
   ]
  },
  {
   "cell_type": "markdown",
   "id": "56a73f9d",
   "metadata": {},
   "source": [
    "### # Word2vec:\n",
    "\n",
    "**i.** In this specific model, each word is basically represented as a vector of 32 or more dimensions instead of just a single number.\n",
    "\n",
    "**ii.** Most importantly, the semantic information and the relation between words is also being preserved."
   ]
  },
  {
   "cell_type": "markdown",
   "id": "723fddef",
   "metadata": {},
   "source": [
    "**For example:** Vectorization using **Word2Vec** will hold true for the following expression.\n",
    "\n",
    "`King - Man + Woman = Queen`"
   ]
  },
  {
   "cell_type": "code",
   "execution_count": 1,
   "id": "f04ac716",
   "metadata": {},
   "outputs": [
    {
     "data": {
      "application/javascript": [
       "IPython.notebook.set_autosave_interval(30000)"
      ]
     },
     "metadata": {},
     "output_type": "display_data"
    },
    {
     "name": "stdout",
     "output_type": "stream",
     "text": [
      "Autosaving every 30 seconds\n"
     ]
    }
   ],
   "source": [
    "%autosave 30"
   ]
  },
  {
   "cell_type": "code",
   "execution_count": 2,
   "id": "47c354c6",
   "metadata": {},
   "outputs": [],
   "source": [
    "import re\n",
    "\n",
    "import nltk\n",
    "from nltk.stem import WordNetLemmatizer\n",
    "from nltk.corpus import stopwords\n",
    "\n",
    "from gensim.models import Word2Vec"
   ]
  },
  {
   "cell_type": "code",
   "execution_count": 3,
   "id": "23293d76",
   "metadata": {},
   "outputs": [
    {
     "data": {
      "text/plain": [
       "'The best-selling book by Caleb Carr is the basis for \"The Alienist,\" a psychological thriller set amidst the vast wealth, extreme poverty and technological innovation of 1896 New York. A never-before-seen ritualistic killer is responsible for the gruesome murders of boy prostitutes, and newly appointed police commissioner Theodore Roosevelt calls upon criminal psychologist Dr. Laszlo Kreizler, newspaper illustrator John Moore and police department secretary Sara Howard to conduct the investigation in secret. The brilliant, obsessive Kreizler is known as an alienist -- one who studies mental pathologies and the deviant behaviors of those who are alienated from themselves and society. His job, along with his controversial views, makes him a social pariah in some circles. But helped by a band of outsiders, Kreizler\\'s tireless efforts eventually answer the question behind what makes a man into a murderer.'"
      ]
     },
     "execution_count": 3,
     "metadata": {},
     "output_type": "execute_result"
    }
   ],
   "source": [
    "para = \"\"\"The best-selling book by Caleb Carr is the basis for \"The Alienist,\" a psychological thriller set amidst the vast wealth, extreme poverty and technological innovation of 1896 New York. A never-before-seen ritualistic killer is responsible for the gruesome murders of boy prostitutes, and newly appointed police commissioner Theodore Roosevelt calls upon criminal psychologist Dr. Laszlo Kreizler, newspaper illustrator John Moore and police department secretary Sara Howard to conduct the investigation in secret. The brilliant, obsessive Kreizler is known as an alienist -- one who studies mental pathologies and the deviant behaviors of those who are alienated from themselves and society. His job, along with his controversial views, makes him a social pariah in some circles. But helped by a band of outsiders, Kreizler's tireless efforts eventually answer the question behind what makes a man into a murderer.\"\"\"\n",
    "para"
   ]
  },
  {
   "cell_type": "code",
   "execution_count": 4,
   "id": "03bc81aa",
   "metadata": {},
   "outputs": [],
   "source": [
    "## Clean the above doc\n",
    "\n",
    "def clean_the_doc(doc):\n",
    "    try:\n",
    "        # Cleaned doc\n",
    "        corpus = []\n",
    "        \n",
    "        # Tokenize the doc as separate sentences\n",
    "        sentences = nltk.sent_tokenize(doc)\n",
    "        \n",
    "        # Create an objec tof lemmatizer\n",
    "        lemma = WordNetLemmatizer()\n",
    "        \n",
    "        for i in range(len(sentences)):\n",
    "            # Just keep the alphabets \n",
    "            review = re.sub('[^a-zA-Z]', ' ', sentences[i])\n",
    "            \n",
    "            # Lower the sentences\n",
    "            review = review.lower()\n",
    "        \n",
    "            # Clean by removing clean words followed by lemmatizing\n",
    "            words = nltk.word_tokenize(review)\n",
    "            cleaned_words = [lemma.lemmatize(word) for word in words if word not in set(stopwords.words('english'))]\n",
    "            \n",
    "#             # Join the clean words to make cleaned sentence\n",
    "#             cleaned_sent = \" \".join(cleaned_words)\n",
    "            \n",
    "            # Append to the cleaned doc\n",
    "            corpus.append(cleaned_words)\n",
    "        return corpus            \n",
    "        ...\n",
    "    except Exception as e:\n",
    "        raise e"
   ]
  },
  {
   "cell_type": "code",
   "execution_count": 5,
   "id": "fde90e21",
   "metadata": {},
   "outputs": [
    {
     "data": {
      "text/plain": [
       "[['best',\n",
       "  'selling',\n",
       "  'book',\n",
       "  'caleb',\n",
       "  'carr',\n",
       "  'basis',\n",
       "  'alienist',\n",
       "  'psychological',\n",
       "  'thriller',\n",
       "  'set',\n",
       "  'amidst',\n",
       "  'vast',\n",
       "  'wealth',\n",
       "  'extreme',\n",
       "  'poverty',\n",
       "  'technological',\n",
       "  'innovation',\n",
       "  'new',\n",
       "  'york'],\n",
       " ['never',\n",
       "  'seen',\n",
       "  'ritualistic',\n",
       "  'killer',\n",
       "  'responsible',\n",
       "  'gruesome',\n",
       "  'murder',\n",
       "  'boy',\n",
       "  'prostitute',\n",
       "  'newly',\n",
       "  'appointed',\n",
       "  'police',\n",
       "  'commissioner',\n",
       "  'theodore',\n",
       "  'roosevelt',\n",
       "  'call',\n",
       "  'upon',\n",
       "  'criminal',\n",
       "  'psychologist',\n",
       "  'dr',\n",
       "  'laszlo',\n",
       "  'kreizler',\n",
       "  'newspaper',\n",
       "  'illustrator',\n",
       "  'john',\n",
       "  'moore',\n",
       "  'police',\n",
       "  'department',\n",
       "  'secretary',\n",
       "  'sara',\n",
       "  'howard',\n",
       "  'conduct',\n",
       "  'investigation',\n",
       "  'secret'],\n",
       " ['brilliant',\n",
       "  'obsessive',\n",
       "  'kreizler',\n",
       "  'known',\n",
       "  'alienist',\n",
       "  'one',\n",
       "  'study',\n",
       "  'mental',\n",
       "  'pathology',\n",
       "  'deviant',\n",
       "  'behavior',\n",
       "  'alienated',\n",
       "  'society'],\n",
       " ['job',\n",
       "  'along',\n",
       "  'controversial',\n",
       "  'view',\n",
       "  'make',\n",
       "  'social',\n",
       "  'pariah',\n",
       "  'circle'],\n",
       " ['helped',\n",
       "  'band',\n",
       "  'outsider',\n",
       "  'kreizler',\n",
       "  'tireless',\n",
       "  'effort',\n",
       "  'eventually',\n",
       "  'answer',\n",
       "  'question',\n",
       "  'behind',\n",
       "  'make',\n",
       "  'man',\n",
       "  'murderer']]"
      ]
     },
     "execution_count": 5,
     "metadata": {},
     "output_type": "execute_result"
    }
   ],
   "source": [
    "corpus = clean_the_doc(doc=para)\n",
    "corpus"
   ]
  },
  {
   "cell_type": "code",
   "execution_count": 6,
   "id": "48380bcc",
   "metadata": {},
   "outputs": [
    {
     "data": {
      "text/plain": [
       "<gensim.models.word2vec.Word2Vec at 0x226a0b249d0>"
      ]
     },
     "execution_count": 6,
     "metadata": {},
     "output_type": "execute_result"
    }
   ],
   "source": [
    "## Word2Vec Vectorization\n",
    "\n",
    "word2vec = Word2Vec(sentences=corpus, min_count=1)  # Atleast one occurence are required for a term to be considered\n",
    "word2vec"
   ]
  },
  {
   "cell_type": "code",
   "execution_count": 7,
   "id": "c86791ab",
   "metadata": {},
   "outputs": [
    {
     "ename": "AttributeError",
     "evalue": "The vocab attribute was removed from KeyedVector in Gensim 4.0.0.\nUse KeyedVector's .key_to_index dict, .index_to_key list, and methods .get_vecattr(key, attr) and .set_vecattr(key, attr, new_val) instead.\nSee https://github.com/RaRe-Technologies/gensim/wiki/Migrating-from-Gensim-3.x-to-4",
     "output_type": "error",
     "traceback": [
      "\u001b[1;31m---------------------------------------------------------------------------\u001b[0m",
      "\u001b[1;31mAttributeError\u001b[0m                            Traceback (most recent call last)",
      "\u001b[1;32m~\\AppData\\Local\\Temp\\ipykernel_5448\\924492607.py\u001b[0m in \u001b[0;36m<module>\u001b[1;34m\u001b[0m\n\u001b[0;32m      1\u001b[0m \u001b[1;31m## prepare features with the vocab\u001b[0m\u001b[1;33m\u001b[0m\u001b[1;33m\u001b[0m\u001b[0m\n\u001b[0;32m      2\u001b[0m \u001b[1;33m\u001b[0m\u001b[0m\n\u001b[1;32m----> 3\u001b[1;33m \u001b[0mwords\u001b[0m \u001b[1;33m=\u001b[0m \u001b[0mword2vec\u001b[0m\u001b[1;33m.\u001b[0m\u001b[0mwv\u001b[0m\u001b[1;33m.\u001b[0m\u001b[0mvocab\u001b[0m\u001b[1;33m\u001b[0m\u001b[1;33m\u001b[0m\u001b[0m\n\u001b[0m\u001b[0;32m      4\u001b[0m \u001b[0mwords\u001b[0m\u001b[1;33m\u001b[0m\u001b[1;33m\u001b[0m\u001b[0m\n",
      "\u001b[1;32m~\\anaconda3\\lib\\site-packages\\gensim\\models\\keyedvectors.py\u001b[0m in \u001b[0;36mvocab\u001b[1;34m(self)\u001b[0m\n\u001b[0;32m    659\u001b[0m     \u001b[1;33m@\u001b[0m\u001b[0mproperty\u001b[0m\u001b[1;33m\u001b[0m\u001b[1;33m\u001b[0m\u001b[0m\n\u001b[0;32m    660\u001b[0m     \u001b[1;32mdef\u001b[0m \u001b[0mvocab\u001b[0m\u001b[1;33m(\u001b[0m\u001b[0mself\u001b[0m\u001b[1;33m)\u001b[0m\u001b[1;33m:\u001b[0m\u001b[1;33m\u001b[0m\u001b[1;33m\u001b[0m\u001b[0m\n\u001b[1;32m--> 661\u001b[1;33m         raise AttributeError(\n\u001b[0m\u001b[0;32m    662\u001b[0m             \u001b[1;34m\"The vocab attribute was removed from KeyedVector in Gensim 4.0.0.\\n\"\u001b[0m\u001b[1;33m\u001b[0m\u001b[1;33m\u001b[0m\u001b[0m\n\u001b[0;32m    663\u001b[0m             \u001b[1;34m\"Use KeyedVector's .key_to_index dict, .index_to_key list, and methods \"\u001b[0m\u001b[1;33m\u001b[0m\u001b[1;33m\u001b[0m\u001b[0m\n",
      "\u001b[1;31mAttributeError\u001b[0m: The vocab attribute was removed from KeyedVector in Gensim 4.0.0.\nUse KeyedVector's .key_to_index dict, .index_to_key list, and methods .get_vecattr(key, attr) and .set_vecattr(key, attr, new_val) instead.\nSee https://github.com/RaRe-Technologies/gensim/wiki/Migrating-from-Gensim-3.x-to-4"
     ]
    }
   ],
   "source": [
    "## prepare features with the vocab\n",
    "\n",
    "words = word2vec.wv.vocab\n",
    "words"
   ]
  },
  {
   "cell_type": "code",
   "execution_count": 8,
   "id": "0f3ad063",
   "metadata": {},
   "outputs": [
    {
     "data": {
      "text/plain": [
       "{'kreizler': 0,\n",
       " 'alienist': 1,\n",
       " 'make': 2,\n",
       " 'police': 3,\n",
       " 'upon': 4,\n",
       " 'prostitute': 5,\n",
       " 'killer': 6,\n",
       " 'responsible': 7,\n",
       " 'gruesome': 8,\n",
       " 'murder': 9,\n",
       " 'boy': 10,\n",
       " 'psychologist': 11,\n",
       " 'newly': 12,\n",
       " 'call': 13,\n",
       " 'appointed': 14,\n",
       " 'seen': 15,\n",
       " 'commissioner': 16,\n",
       " 'theodore': 17,\n",
       " 'criminal': 18,\n",
       " 'roosevelt': 19,\n",
       " 'ritualistic': 20,\n",
       " 'york': 21,\n",
       " 'never': 22,\n",
       " 'set': 23,\n",
       " 'selling': 24,\n",
       " 'book': 25,\n",
       " 'caleb': 26,\n",
       " 'carr': 27,\n",
       " 'basis': 28,\n",
       " 'psychological': 29,\n",
       " 'thriller': 30,\n",
       " 'amidst': 31,\n",
       " 'laszlo': 32,\n",
       " 'vast': 33,\n",
       " 'wealth': 34,\n",
       " 'extreme': 35,\n",
       " 'poverty': 36,\n",
       " 'technological': 37,\n",
       " 'innovation': 38,\n",
       " 'new': 39,\n",
       " 'dr': 40,\n",
       " 'murderer': 41,\n",
       " 'man': 42,\n",
       " 'newspaper': 43,\n",
       " 'society': 44,\n",
       " 'job': 45,\n",
       " 'along': 46,\n",
       " 'controversial': 47,\n",
       " 'view': 48,\n",
       " 'social': 49,\n",
       " 'pariah': 50,\n",
       " 'circle': 51,\n",
       " 'helped': 52,\n",
       " 'band': 53,\n",
       " 'outsider': 54,\n",
       " 'tireless': 55,\n",
       " 'effort': 56,\n",
       " 'eventually': 57,\n",
       " 'answer': 58,\n",
       " 'question': 59,\n",
       " 'behind': 60,\n",
       " 'alienated': 61,\n",
       " 'behavior': 62,\n",
       " 'deviant': 63,\n",
       " 'conduct': 64,\n",
       " 'illustrator': 65,\n",
       " 'john': 66,\n",
       " 'moore': 67,\n",
       " 'department': 68,\n",
       " 'secretary': 69,\n",
       " 'sara': 70,\n",
       " 'howard': 71,\n",
       " 'investigation': 72,\n",
       " 'pathology': 73,\n",
       " 'secret': 74,\n",
       " 'brilliant': 75,\n",
       " 'obsessive': 76,\n",
       " 'known': 77,\n",
       " 'one': 78,\n",
       " 'study': 79,\n",
       " 'mental': 80,\n",
       " 'best': 81}"
      ]
     },
     "execution_count": 8,
     "metadata": {},
     "output_type": "execute_result"
    }
   ],
   "source": [
    "## Approach in the newwe versions\n",
    "\n",
    "words = word2vec.wv.key_to_index\n",
    "words"
   ]
  },
  {
   "cell_type": "markdown",
   "id": "503bc268",
   "metadata": {},
   "source": [
    "### # Finding word vectors and looking at its similar words:"
   ]
  },
  {
   "cell_type": "code",
   "execution_count": 9,
   "id": "010532d8",
   "metadata": {},
   "outputs": [
    {
     "data": {
      "text/plain": [
       "array([-5.3003023e-04,  2.6677107e-04,  5.0826091e-03,  8.9982525e-03,\n",
       "       -9.2786001e-03, -7.1347621e-03,  6.4706388e-03,  8.9893667e-03,\n",
       "       -5.0251847e-03, -3.7632736e-03,  7.3707411e-03, -1.5778933e-03,\n",
       "       -4.5439592e-03,  6.5781437e-03, -4.8493599e-03, -1.8237075e-03,\n",
       "        2.8823689e-03,  9.8521635e-04, -8.2716849e-03, -9.4813062e-03,\n",
       "        7.3286290e-03,  5.0966865e-03,  6.7790011e-03,  7.6997356e-04,\n",
       "        6.3372087e-03, -3.3905355e-03, -9.5822802e-04,  5.7557095e-03,\n",
       "       -7.5211399e-03, -3.9286385e-03, -7.4986331e-03, -9.4132160e-04,\n",
       "        9.5736273e-03, -7.3562195e-03, -2.3464924e-03, -1.9232829e-03,\n",
       "        8.0974512e-03, -5.9350817e-03,  2.2046863e-05, -4.7575883e-03,\n",
       "       -9.6042166e-03,  5.0135367e-03, -8.7609673e-03, -4.4046296e-03,\n",
       "       -2.3056018e-05, -2.8432609e-04, -7.6990118e-03,  9.6035469e-03,\n",
       "        5.0019673e-03,  9.2336470e-03, -8.1646452e-03,  4.4970601e-03,\n",
       "       -4.1454998e-03,  8.1364741e-04,  8.5114492e-03, -4.4847853e-03,\n",
       "        4.5433678e-03, -6.7933258e-03, -3.5293794e-03,  9.3938448e-03,\n",
       "       -1.5755376e-03,  3.0812193e-04, -4.1449089e-03, -7.6694642e-03,\n",
       "       -1.5104588e-03,  2.4680162e-03, -8.9207845e-04,  5.5402718e-03,\n",
       "       -2.7794617e-03,  2.2863930e-03,  5.4417909e-03,  8.3456244e-03,\n",
       "       -1.4410000e-03, -9.1961157e-03,  4.3810070e-03,  5.4325385e-04,\n",
       "        7.4392175e-03, -8.0064544e-04, -2.6645246e-03, -8.7438663e-03,\n",
       "       -8.9141598e-04,  2.8118752e-03,  5.3672902e-03,  7.0825759e-03,\n",
       "       -5.7307133e-03,  1.8445570e-03,  6.1119250e-03, -4.7815093e-03,\n",
       "       -3.0930203e-03,  6.8059904e-03,  1.6535574e-03,  2.1137750e-04,\n",
       "        3.4643449e-03,  2.0136144e-04,  9.6407440e-03,  5.0708912e-03,\n",
       "       -8.9174192e-03, -7.0579476e-03,  9.0233289e-04,  6.4062523e-03],\n",
       "      dtype=float32)"
      ]
     },
     "execution_count": 9,
     "metadata": {},
     "output_type": "execute_result"
    }
   ],
   "source": [
    "vec = word2vec.wv['kreizler']\n",
    "vec"
   ]
  },
  {
   "cell_type": "markdown",
   "id": "6f320a87",
   "metadata": {},
   "source": [
    "**=>** The vector of the word `kreizler`."
   ]
  },
  {
   "cell_type": "code",
   "execution_count": 10,
   "id": "7f5fe581",
   "metadata": {},
   "outputs": [
    {
     "data": {
      "text/plain": [
       "[('investigation', 0.2902636229991913),\n",
       " ('commissioner', 0.21957415342330933),\n",
       " ('murder', 0.21617160737514496),\n",
       " ('illustrator', 0.20418767631053925),\n",
       " ('basis', 0.19654962420463562),\n",
       " ('band', 0.17204968631267548),\n",
       " ('newspaper', 0.1694621592760086),\n",
       " ('thriller', 0.15191279351711273),\n",
       " ('wealth', 0.14258213341236115),\n",
       " ('eventually', 0.13999484479427338)]"
      ]
     },
     "execution_count": 10,
     "metadata": {},
     "output_type": "execute_result"
    }
   ],
   "source": [
    "## Most similar words to `kreizler`\n",
    "\n",
    "word2vec.wv.most_similar('kreizler')"
   ]
  },
  {
   "cell_type": "code",
   "execution_count": 11,
   "id": "b64dee42",
   "metadata": {},
   "outputs": [
    {
     "data": {
      "text/plain": [
       "[('ritualistic', 0.18682411313056946),\n",
       " ('psychologist', 0.182087242603302),\n",
       " ('question', 0.18049369752407074),\n",
       " ('upon', 0.1755843162536621),\n",
       " ('prostitute', 0.1626976728439331),\n",
       " ('poverty', 0.15943913161754608),\n",
       " ('department', 0.1589145064353943),\n",
       " ('kreizler', 0.15191277861595154),\n",
       " ('illustrator', 0.14638391137123108),\n",
       " ('carr', 0.1425441950559616)]"
      ]
     },
     "execution_count": 11,
     "metadata": {},
     "output_type": "execute_result"
    }
   ],
   "source": [
    "## Most similar words to `thriller`\n",
    "\n",
    "word2vec.wv.most_similar('thriller')"
   ]
  },
  {
   "cell_type": "code",
   "execution_count": 12,
   "id": "1807e745",
   "metadata": {},
   "outputs": [
    {
     "data": {
      "text/plain": [
       "[('carr', 0.18908195197582245),\n",
       " ('never', 0.18853941559791565),\n",
       " ('circle', 0.1837977170944214),\n",
       " ('appointed', 0.16103841364383698),\n",
       " ('brilliant', 0.15977992117404938),\n",
       " ('criminal', 0.15935558080673218),\n",
       " ('moore', 0.15890660881996155),\n",
       " ('call', 0.13751624524593353),\n",
       " ('conduct', 0.13453452289104462),\n",
       " ('set', 0.1281122863292694)]"
      ]
     },
     "execution_count": 12,
     "metadata": {},
     "output_type": "execute_result"
    }
   ],
   "source": [
    "## Most similar words to `alienist`\n",
    "\n",
    "word2vec.wv.most_similar('alienist')"
   ]
  }
 ],
 "metadata": {
  "kernelspec": {
   "display_name": "Python 3 (ipykernel)",
   "language": "python",
   "name": "python3"
  },
  "language_info": {
   "codemirror_mode": {
    "name": "ipython",
    "version": 3
   },
   "file_extension": ".py",
   "mimetype": "text/x-python",
   "name": "python",
   "nbconvert_exporter": "python",
   "pygments_lexer": "ipython3",
   "version": "3.9.13"
  }
 },
 "nbformat": 4,
 "nbformat_minor": 5
}
